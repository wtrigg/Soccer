{
 "cells": [
  {
   "cell_type": "markdown",
   "metadata": {},
   "source": [
    "<h2> Part 1: Set up </h2>"
   ]
  },
  {
   "cell_type": "code",
   "execution_count": 1,
   "metadata": {
    "collapsed": true
   },
   "outputs": [],
   "source": [
    "import pandas as pd"
   ]
  },
  {
   "cell_type": "code",
   "execution_count": 7,
   "metadata": {},
   "outputs": [],
   "source": [
    "import os"
   ]
  },
  {
   "cell_type": "code",
   "execution_count": 70,
   "metadata": {
    "collapsed": true
   },
   "outputs": [],
   "source": [
    "import math"
   ]
  },
  {
   "cell_type": "code",
   "execution_count": null,
   "metadata": {
    "collapsed": true
   },
   "outputs": [],
   "source": [
    "import numpy as np"
   ]
  },
  {
   "cell_type": "code",
   "execution_count": null,
   "metadata": {
    "collapsed": true
   },
   "outputs": [],
   "source": [
    "# Below, identify and name the dataset you're using. this one is already in jupyter. \n",
    "# Can also do: data = pd.read_csv(\"URL to dataset\") . Can sub csv with json or xls"
   ]
  },
  {
   "cell_type": "code",
   "execution_count": 8,
   "metadata": {},
   "outputs": [],
   "source": [
    "data = pd.read_csv(os.path.join('mls-salaries-2017.csv'))"
   ]
  },
  {
   "cell_type": "code",
   "execution_count": null,
   "metadata": {
    "collapsed": true
   },
   "outputs": [],
   "source": [
    "#data.head gives top 5 rows of data"
   ]
  },
  {
   "cell_type": "markdown",
   "metadata": {},
   "source": [
    "<h2> Part 2: Check Data and Review Position counts & Salaries </h2>"
   ]
  },
  {
   "cell_type": "code",
   "execution_count": 11,
   "metadata": {},
   "outputs": [
    {
     "name": "stdout",
     "output_type": "stream",
     "text": [
      "  club last_name first_name position  base_salary  guaranteed_compensation\n",
      "0  ATL   Almiron     Miguel        M      1912500               2297000.00\n",
      "1  ATL   Ambrose      Mikey        D        65625                 65625.00\n",
      "2  ATL      Asad      Yamil        M       150000                150000.00\n",
      "3  ATL     Bloom       Mark        D        99225                106573.89\n",
      "4  ATL  Carleton     Andrew        F        65000                 77400.00\n"
     ]
    }
   ],
   "source": [
    "print data.head()"
   ]
  },
  {
   "cell_type": "code",
   "execution_count": 14,
   "metadata": {},
   "outputs": [
    {
     "name": "stdout",
     "output_type": "stream",
     "text": [
      "club\n",
      "last_name\n",
      "first_name\n",
      "position\n",
      "base_salary\n",
      "guaranteed_compensation\n"
     ]
    }
   ],
   "source": [
    "for x in data.columns.values:\n",
    "    print x"
   ]
  },
  {
   "cell_type": "code",
   "execution_count": 15,
   "metadata": {},
   "outputs": [
    {
     "name": "stdout",
     "output_type": "stream",
     "text": [
      "  club last_name first_name position  base_salary  guaranteed_compensation\n",
      "0  ATL   Almiron     Miguel        M      1912500                  2297000\n",
      "1  ATL   Ambrose      Mikey        D        65625                    65625\n"
     ]
    }
   ],
   "source": [
    "print data.head(2)"
   ]
  },
  {
   "cell_type": "code",
   "execution_count": 16,
   "metadata": {},
   "outputs": [
    {
     "name": "stdout",
     "output_type": "stream",
     "text": [
      "616\n"
     ]
    }
   ],
   "source": [
    "#how many rows in dataset\n",
    "print len(data)"
   ]
  },
  {
   "cell_type": "code",
   "execution_count": 46,
   "metadata": {},
   "outputs": [
    {
     "name": "stdout",
     "output_type": "stream",
     "text": [
      "259213.420645\n"
     ]
    }
   ],
   "source": [
    "# Get the Avg of column 'base_salary' given that the club is ATL\n",
    "# Parameters (if ==ATL) come BEFORE value set (base salary)\n",
    "print data[ data.club==\"ATL\" ].base_salary.mean()"
   ]
  },
  {
   "cell_type": "code",
   "execution_count": 69,
   "metadata": {
    "scrolled": true
   },
   "outputs": [
    {
     "ename": "TypeError",
     "evalue": "cannot convert the series to <type 'float'>",
     "output_type": "error",
     "traceback": [
      "\u001b[0;31m---------------------------------------------------------------------------\u001b[0m",
      "\u001b[0;31mTypeError\u001b[0m                                 Traceback (most recent call last)",
      "\u001b[0;32m<ipython-input-69-23648fc27033>\u001b[0m in \u001b[0;36m<module>\u001b[0;34m()\u001b[0m\n\u001b[0;32m----> 1\u001b[0;31m \u001b[0msalary\u001b[0m \u001b[0;34m=\u001b[0m \u001b[0mstr\u001b[0m\u001b[0;34m(\u001b[0m\u001b[0mround\u001b[0m\u001b[0;34m(\u001b[0m\u001b[0mdata\u001b[0m\u001b[0;34m.\u001b[0m\u001b[0mbase_salary\u001b[0m\u001b[0;34m,\u001b[0m\u001b[0;36m2\u001b[0m\u001b[0;34m)\u001b[0m\u001b[0;34m)\u001b[0m\u001b[0;34m\u001b[0m\u001b[0m\n\u001b[0m",
      "\u001b[0;32m/Applications/anaconda/lib/python2.7/site-packages/pandas/core/series.pyc\u001b[0m in \u001b[0;36mwrapper\u001b[0;34m(self)\u001b[0m\n\u001b[1;32m     79\u001b[0m             \u001b[0;32mreturn\u001b[0m \u001b[0mconverter\u001b[0m\u001b[0;34m(\u001b[0m\u001b[0mself\u001b[0m\u001b[0;34m.\u001b[0m\u001b[0miloc\u001b[0m\u001b[0;34m[\u001b[0m\u001b[0;36m0\u001b[0m\u001b[0;34m]\u001b[0m\u001b[0;34m)\u001b[0m\u001b[0;34m\u001b[0m\u001b[0m\n\u001b[1;32m     80\u001b[0m         raise TypeError(\n\u001b[0;32m---> 81\u001b[0;31m             \"cannot convert the series to {0}\".format(str(converter)))\n\u001b[0m\u001b[1;32m     82\u001b[0m     \u001b[0;32mreturn\u001b[0m \u001b[0mwrapper\u001b[0m\u001b[0;34m\u001b[0m\u001b[0m\n\u001b[1;32m     83\u001b[0m \u001b[0;34m\u001b[0m\u001b[0m\n",
      "\u001b[0;31mTypeError\u001b[0m: cannot convert the series to <type 'float'>"
     ]
    }
   ],
   "source": [
    "salary = round(data.base_salary,2)"
   ]
  },
  {
   "cell_type": "code",
   "execution_count": 84,
   "metadata": {},
   "outputs": [
    {
     "name": "stdout",
     "output_type": "stream",
     "text": [
      "Midfield\n",
      "212\n",
      "376106.22\n"
     ]
    }
   ],
   "source": [
    "#Label and count how many midfielders there are\n",
    "print (\"Midfield\")\n",
    "\n",
    "mcnt = data[ data.position==\"M\" ].position.count()\n",
    "print (mcnt)\n",
    "# Define average salary of midfielders.\n",
    "m_sal = data[ data.position==\"M\" ].base_salary.mean()\n",
    "# Round answer to 2 decimals\n",
    "msal_avg = round(m_sal,2)\n",
    "print msal_avg"
   ]
  },
  {
   "cell_type": "code",
   "execution_count": 85,
   "metadata": {},
   "outputs": [
    {
     "name": "stdout",
     "output_type": "stream",
     "text": [
      "Defense\n",
      "185\n",
      "166574.09\n"
     ]
    }
   ],
   "source": [
    "#Same as above, for Defense\n",
    "print (\"Defense\")\n",
    "dcnt = data[ data.position==\"D\" ].position.count()\n",
    "print (dcnt)\n",
    "# Define average salary of defenders\n",
    "d_sal = data[ data.position==\"D\" ].base_salary.mean()\n",
    "# Define answer rounded to 2 decimals\n",
    "dsal_avg = round(d_sal,2)\n",
    "print dsal_avg"
   ]
  },
  {
   "cell_type": "code",
   "execution_count": 86,
   "metadata": {},
   "outputs": [
    {
     "name": "stdout",
     "output_type": "stream",
     "text": [
      "Forward\n",
      "109\n",
      "489588.6\n"
     ]
    }
   ],
   "source": [
    "# Again for Forwards\n",
    "print (\"Forward\")\n",
    "fcnt = data[ data.position==\"F\" ].position.count()\n",
    "print (fcnt)\n",
    "# Define average salary of Forwards\n",
    "f_sal = data[ data.position==\"F\" ].base_salary.mean()\n",
    "# Round answer to 2 decimals\n",
    "fsal_avg = round(f_sal,2)\n",
    "print fsal_avg"
   ]
  },
  {
   "cell_type": "code",
   "execution_count": 91,
   "metadata": {
    "scrolled": false
   },
   "outputs": [
    {
     "name": "stdout",
     "output_type": "stream",
     "text": [
      "Defense\n",
      "185\n",
      "166574.09\n",
      "Midfield\n",
      "212\n",
      "376106.22\n",
      "Forward\n",
      "109\n",
      "489588.6\n"
     ]
    }
   ],
   "source": [
    "# Consolidate and Reorder\n",
    "print (\"Defense\")\n",
    "print (dcnt)\n",
    "print dsal_avg\n",
    "print (\"Midfield\")\n",
    "print mcnt\n",
    "print msal_avg\n",
    "print (\"Forward\")\n",
    "print fcnt\n",
    "print fsal_avg\n"
   ]
  },
  {
   "cell_type": "markdown",
   "metadata": {},
   "source": [
    "<h1> Part 3: Breakdown Counts & Salaries by Club! </h2>"
   ]
  },
  {
   "cell_type": "markdown",
   "metadata": {},
   "source": [
    "<h3> Atlanta </h3>"
   ]
  },
  {
   "cell_type": "code",
   "execution_count": 148,
   "metadata": {},
   "outputs": [
    {
     "name": "stdout",
     "output_type": "stream",
     "text": [
      "31\n"
     ]
    }
   ],
   "source": [
    "#Total players\n",
    "atl_cnt = data[ data.club==\"ATL\"].base_salary.count()\n",
    "print atl_cnt"
   ]
  },
  {
   "cell_type": "code",
   "execution_count": 149,
   "metadata": {},
   "outputs": [
    {
     "name": "stdout",
     "output_type": "stream",
     "text": [
      "Total Players\n",
      "31\n"
     ]
    }
   ],
   "source": [
    "# Define ATL team\n",
    "atl = data.club==\"ATL\"\n",
    "# Total players\n",
    "atl_tot = data[atl].position.count()\n",
    "print \"Total Players\"\n",
    "print atl_tot"
   ]
  },
  {
   "cell_type": "code",
   "execution_count": 150,
   "metadata": {},
   "outputs": [
    {
     "name": "stdout",
     "output_type": "stream",
     "text": [
      "259213.42\n",
      "1912500.0\n",
      "53000.0\n"
     ]
    }
   ],
   "source": [
    "# ATL Salaries\n",
    "# Find max and min salaries\n",
    "atl_maxsal = data[atl].base_salary.max()\n",
    "atl_minsal = data[atl].base_salary.min()\n",
    "# Find average salary and round to hundreds\n",
    "atl_avg = data[atl].base_salary.mean()\n",
    "atl_avgsal = round(atl_avg,2)\n",
    "print atl_avgsal\n",
    "print atl_maxsal\n",
    "print atl_minsal"
   ]
  },
  {
   "cell_type": "markdown",
   "metadata": {},
   "source": [
    "<h3> NYCFC </h3>"
   ]
  },
  {
   "cell_type": "code",
   "execution_count": 151,
   "metadata": {},
   "outputs": [
    {
     "name": "stdout",
     "output_type": "stream",
     "text": [
      "28\n"
     ]
    }
   ],
   "source": [
    "#Total players\n",
    "nyc_cnt = data[ data.club==\"NYCFC\"].base_salary.count()\n",
    "print nyc_cnt"
   ]
  },
  {
   "cell_type": "code",
   "execution_count": 152,
   "metadata": {},
   "outputs": [
    {
     "name": "stdout",
     "output_type": "stream",
     "text": [
      "Total Players\n",
      "28\n"
     ]
    }
   ],
   "source": [
    "# Define NYC team\n",
    "nyc = data.club==\"NYCFC\"\n",
    "# Total players\n",
    "nyc_tot = data[nyc].position.count()\n",
    "print \"Total Players\"\n",
    "print nyc_tot"
   ]
  },
  {
   "cell_type": "code",
   "execution_count": 153,
   "metadata": {
    "scrolled": true
   },
   "outputs": [
    {
     "name": "stdout",
     "output_type": "stream",
     "text": [
      "620375.92\n",
      "5610000.0\n",
      "52999.92\n"
     ]
    }
   ],
   "source": [
    "# NYC Salaries\n",
    "# Find max and min salaries\n",
    "nyc_maxsal = data[nyc].base_salary.max()\n",
    "nyc_minsal = data[nyc].base_salary.min()\n",
    "# Find average salary and round to hundreds\n",
    "nyc_avg = data[nyc].base_salary.mean()\n",
    "nyc_avgsal = round(nyc_avg,2)\n",
    "print nyc_avgsal\n",
    "print nyc_maxsal\n",
    "print nyc_minsal"
   ]
  },
  {
   "cell_type": "markdown",
   "metadata": {},
   "source": [
    "<h2> ATL vs NYCFC </h2>"
   ]
  },
  {
   "cell_type": "code",
   "execution_count": 154,
   "metadata": {},
   "outputs": [
    {
     "name": "stdout",
     "output_type": "stream",
     "text": [
      "31\n",
      "28\n"
     ]
    }
   ],
   "source": [
    "# Comparing personelle\n",
    "print atl_tot\n",
    "print nyc_cnt"
   ]
  },
  {
   "cell_type": "code",
   "execution_count": 184,
   "metadata": {},
   "outputs": [
    {
     "ename": "ValueError",
     "evalue": "The truth value of a Series is ambiguous. Use a.empty, a.bool(), a.item(), a.any() or a.all().",
     "output_type": "error",
     "traceback": [
      "\u001b[0;31m---------------------------------------------------------------------------\u001b[0m",
      "\u001b[0;31mValueError\u001b[0m                                Traceback (most recent call last)",
      "\u001b[0;32m<ipython-input-184-f16ffe40bd5e>\u001b[0m in \u001b[0;36m<module>\u001b[0;34m()\u001b[0m\n\u001b[0;32m----> 1\u001b[0;31m \u001b[0matld_cnt\u001b[0m \u001b[0;34m=\u001b[0m \u001b[0mdata\u001b[0m\u001b[0;34m[\u001b[0m\u001b[0mdata\u001b[0m\u001b[0;34m.\u001b[0m\u001b[0mclub\u001b[0m\u001b[0;34m==\u001b[0m\u001b[0;34m\"ATL\"\u001b[0m \u001b[0;32mand\u001b[0m \u001b[0mdata\u001b[0m\u001b[0;34m.\u001b[0m\u001b[0mposition\u001b[0m\u001b[0;34m==\u001b[0m\u001b[0;34m\"D\"\u001b[0m\u001b[0;34m]\u001b[0m\u001b[0;34m.\u001b[0m\u001b[0mbase_salary\u001b[0m\u001b[0;34m.\u001b[0m\u001b[0msum\u001b[0m\u001b[0;34m(\u001b[0m\u001b[0;34m)\u001b[0m\u001b[0;34m\u001b[0m\u001b[0m\n\u001b[0m",
      "\u001b[0;32m/Applications/anaconda/lib/python2.7/site-packages/pandas/core/generic.pyc\u001b[0m in \u001b[0;36m__nonzero__\u001b[0;34m(self)\u001b[0m\n\u001b[1;32m    729\u001b[0m         raise ValueError(\"The truth value of a {0} is ambiguous. \"\n\u001b[1;32m    730\u001b[0m                          \u001b[0;34m\"Use a.empty, a.bool(), a.item(), a.any() or a.all().\"\u001b[0m\u001b[0;34m\u001b[0m\u001b[0m\n\u001b[0;32m--> 731\u001b[0;31m                          .format(self.__class__.__name__))\n\u001b[0m\u001b[1;32m    732\u001b[0m \u001b[0;34m\u001b[0m\u001b[0m\n\u001b[1;32m    733\u001b[0m     \u001b[0m__bool__\u001b[0m \u001b[0;34m=\u001b[0m \u001b[0m__nonzero__\u001b[0m\u001b[0;34m\u001b[0m\u001b[0m\n",
      "\u001b[0;31mValueError\u001b[0m: The truth value of a Series is ambiguous. Use a.empty, a.bool(), a.item(), a.any() or a.all()."
     ]
    }
   ],
   "source": [
    "atld_cnt = data[data.club==\"ATL\" and data.position==\"D\"].base_salary.sum()"
   ]
  },
  {
   "cell_type": "code",
   "execution_count": 155,
   "metadata": {},
   "outputs": [
    {
     "name": "stdout",
     "output_type": "stream",
     "text": [
      "Average Salary\n",
      "259213.42\n",
      "620375.92\n",
      "Highest Salary\n",
      "1912500.0\n",
      "5610000.0\n",
      "Lowest Salary\n",
      "53000.0\n",
      "52999.92\n"
     ]
    }
   ],
   "source": [
    "# Comparing Salaries\n",
    "print \"Average Salary\"\n",
    "print atl_avgsal\n",
    "print nyc_avgsal\n",
    "\n",
    "print \"Highest Salary\"\n",
    "print atl_maxsal\n",
    "print nyc_maxsal\n",
    "print \"Lowest Salary\"\n",
    "print atl_minsal\n",
    "print nyc_minsal"
   ]
  },
  {
   "cell_type": "code",
   "execution_count": 190,
   "metadata": {},
   "outputs": [
    {
     "name": "stdout",
     "output_type": "stream",
     "text": [
      "2\n"
     ]
    },
    {
     "ename": "AttributeError",
     "evalue": "'Series' object has no attribute 'delna'",
     "output_type": "error",
     "traceback": [
      "\u001b[0;31m---------------------------------------------------------------------------\u001b[0m",
      "\u001b[0;31mAttributeError\u001b[0m                            Traceback (most recent call last)",
      "\u001b[0;32m<ipython-input-190-ba1b63cc30b6>\u001b[0m in \u001b[0;36m<module>\u001b[0;34m()\u001b[0m\n\u001b[1;32m      1\u001b[0m \u001b[0;32mprint\u001b[0m \u001b[0mdata\u001b[0m\u001b[0;34m[\u001b[0m\u001b[0;34m'club'\u001b[0m\u001b[0;34m]\u001b[0m\u001b[0;34m.\u001b[0m\u001b[0misnull\u001b[0m\u001b[0;34m(\u001b[0m\u001b[0;34m)\u001b[0m\u001b[0;34m.\u001b[0m\u001b[0msum\u001b[0m\u001b[0;34m(\u001b[0m\u001b[0;34m)\u001b[0m\u001b[0;34m\u001b[0m\u001b[0m\n\u001b[0;32m----> 2\u001b[0;31m \u001b[0;32mprint\u001b[0m \u001b[0mlen\u001b[0m\u001b[0;34m(\u001b[0m\u001b[0mdata\u001b[0m\u001b[0;34m)\u001b[0m \u001b[0;34m-\u001b[0m \u001b[0mlen\u001b[0m\u001b[0;34m(\u001b[0m\u001b[0mdata\u001b[0m\u001b[0;34m[\u001b[0m\u001b[0;34m'club'\u001b[0m\u001b[0;34m]\u001b[0m\u001b[0;34m.\u001b[0m\u001b[0mdelna\u001b[0m\u001b[0;34m(\u001b[0m\u001b[0;34m)\u001b[0m\u001b[0;34m)\u001b[0m\u001b[0;34m\u001b[0m\u001b[0m\n\u001b[0m",
      "\u001b[0;32m/Applications/anaconda/lib/python2.7/site-packages/pandas/core/generic.pyc\u001b[0m in \u001b[0;36m__getattr__\u001b[0;34m(self, name)\u001b[0m\n\u001b[1;32m   2358\u001b[0m                 \u001b[0;32mreturn\u001b[0m \u001b[0mself\u001b[0m\u001b[0;34m[\u001b[0m\u001b[0mname\u001b[0m\u001b[0;34m]\u001b[0m\u001b[0;34m\u001b[0m\u001b[0m\n\u001b[1;32m   2359\u001b[0m             raise AttributeError(\"'%s' object has no attribute '%s'\" %\n\u001b[0;32m-> 2360\u001b[0;31m                                  (type(self).__name__, name))\n\u001b[0m\u001b[1;32m   2361\u001b[0m \u001b[0;34m\u001b[0m\u001b[0m\n\u001b[1;32m   2362\u001b[0m     \u001b[0;32mdef\u001b[0m \u001b[0m__setattr__\u001b[0m\u001b[0;34m(\u001b[0m\u001b[0mself\u001b[0m\u001b[0;34m,\u001b[0m \u001b[0mname\u001b[0m\u001b[0;34m,\u001b[0m \u001b[0mvalue\u001b[0m\u001b[0;34m)\u001b[0m\u001b[0;34m:\u001b[0m\u001b[0;34m\u001b[0m\u001b[0m\n",
      "\u001b[0;31mAttributeError\u001b[0m: 'Series' object has no attribute 'delna'"
     ]
    }
   ],
   "source": [
    "print data['club'].isnull().sum()\n",
    "print len(data) - len(data['club'].dropna())"
   ]
  },
  {
   "cell_type": "code",
   "execution_count": 189,
   "metadata": {},
   "outputs": [
    {
     "name": "stdout",
     "output_type": "stream",
     "text": [
      "    club       last_name    first_name position  base_salary  \\\n",
      "0    ATL         Almiron        Miguel        M   1912500.00   \n",
      "1    ATL         Ambrose         Mikey        D     65625.00   \n",
      "2    ATL            Asad         Yamil        M    150000.00   \n",
      "3    ATL           Bloom          Mark        D     99225.00   \n",
      "4    ATL        Carleton        Andrew        F     65000.00   \n",
      "5    ATL         Carmona        Carlos        M    675000.00   \n",
      "6    ATL           Garza          Greg        D    150000.00   \n",
      "7    ATL  Gonzalez Pirez       Leandro        D    250008.00   \n",
      "8    ATL          Goslin         Chris        M     70000.00   \n",
      "9    ATL         Gressel        Julian        M     75000.00   \n",
      "10   ATL           Heath      Harrison        M     66150.00   \n",
      "11   ATL           Jones       Kenwyne        F    390000.00   \n",
      "12   ATL            Kann          Alec       GK     77004.00   \n",
      "13   ATL           Kratz         Kevin        M    150000.00   \n",
      "14   ATL     Larentowicz          Jeff        M    175008.00   \n",
      "15   ATL            Loyd          Zach        D     85008.00   \n",
      "16   ATL        Martinez         Josef        F    924000.00   \n",
      "17   ATL          McCann         Chris        M    540000.00   \n",
      "18   ATL           Mears        Tyrone        D    183756.00   \n",
      "19   ATL    Oblitey Otoo       Jeffrey      M-F     53000.00   \n",
      "20   ATL       Parkhurst       Michael        D    325008.00   \n",
      "21   ATL        Peterson         Jacob        F    165300.00   \n",
      "22   ATL         Reynish          Kyle       GK     65004.00   \n",
      "23   ATL        Robinson         Miles        D    125000.04   \n",
      "24   ATL          Rochez         Bryan        F    200000.00   \n",
      "25   ATL        Tambakis     Alexander       GK     65004.00   \n",
      "26   ATL         Vazquez       Brandon        F    100008.00   \n",
      "27   ATL        Villalba        Hector        F    663000.00   \n",
      "28   ATL          Walkes         Anton        D     53004.00   \n",
      "29   ATL  Wheeler-Omiunu        Andrew        M     53004.00   \n",
      "..   ...             ...           ...      ...          ...   \n",
      "586  VAN         de Jong        Marcel      D-M    140000.00   \n",
      "587  VAN            Dean     Christian        D    121000.00   \n",
      "588  VAN           Edgar         David        D    175000.00   \n",
      "589  VAN          Flores         Deybi        M     66000.00   \n",
      "590  VAN          Froese         Kianz        M     69300.00   \n",
      "591  VAN           Greig          Kyle        F     65004.00   \n",
      "592  VAN          Harvey        Jordan        D    180000.00   \n",
      "593  VAN         Hurtado          Erik      F/M    125000.00   \n",
      "594  VAN        Jacobson        Andrew        M    150000.00   \n",
      "595  VAN            Laba        Matias        M    725000.00   \n",
      "596  VAN           Levis         Brett        D     65000.00   \n",
      "597  VAN        McKendry           Ben        M     65000.00   \n",
      "598  VAN        Mezquida       Nicolas      M-F    120000.00   \n",
      "599  VAN         Montero         Fredy        F   1400000.04   \n",
      "600  VAN       Nerwinski          Jake        D     65004.00   \n",
      "601  VAN          Ousted         David       GK    360000.00   \n",
      "602  VAN          Parker           Tim        D     80850.00   \n",
      "603  VAN           Reyna         Yordy      M-F    440000.04   \n",
      "604  VAN          Richey       Spencer       GK     65004.00   \n",
      "605  VAN         Rosales         Mauro        M     65004.00   \n",
      "606  VAN          Seiler          Cole        D     54075.00   \n",
      "607  VAN            Shea          Brek      M-D    625000.00   \n",
      "608  VAN          Tchani          Tony        M    275000.00   \n",
      "609  VAN         Techera      Cristian        M    352000.00   \n",
      "610  VAN         Teibert       Russell        M    126500.00   \n",
      "611  VAN        Tornaghi         Paolo       GK     80000.00   \n",
      "612  VAN          Waston       Kendall        D    350000.00   \n",
      "613  VAN        Williams       Sheanon        D    175000.00   \n",
      "614  NaN         Babouli            Mo        F     54075.00   \n",
      "615  NaN          Ramajo  David Mateos        D    420000.00   \n",
      "\n",
      "     guaranteed_compensation  \n",
      "0                 2297000.00  \n",
      "1                   65625.00  \n",
      "2                  150000.00  \n",
      "3                  106573.89  \n",
      "4                   77400.00  \n",
      "5                  725000.00  \n",
      "6                  150000.00  \n",
      "7                  285008.00  \n",
      "8                   74000.00  \n",
      "9                   93750.00  \n",
      "10                  66150.00  \n",
      "11                 413333.33  \n",
      "12                  77004.00  \n",
      "13                 164250.00  \n",
      "14                 175008.00  \n",
      "15                  85008.00  \n",
      "16                1041310.00  \n",
      "17                 568000.00  \n",
      "18                 183756.00  \n",
      "19                  53000.00  \n",
      "20                 325008.00  \n",
      "21                 165300.00  \n",
      "22                  65004.00  \n",
      "23                 195000.04  \n",
      "24                 279500.00  \n",
      "25                  65004.00  \n",
      "26                 120008.00  \n",
      "27                 770750.00  \n",
      "28                  53004.00  \n",
      "29                  53004.00  \n",
      "..                       ...  \n",
      "586                140000.00  \n",
      "587                202000.00  \n",
      "588                183833.33  \n",
      "589                 71885.00  \n",
      "590                 73800.00  \n",
      "591                 66849.00  \n",
      "592                180000.00  \n",
      "593                131250.00  \n",
      "594                175000.00  \n",
      "595                885500.00  \n",
      "596                 67500.00  \n",
      "597                 65000.00  \n",
      "598                120000.00  \n",
      "599               1800000.04  \n",
      "600                 65004.00  \n",
      "601                378933.33  \n",
      "602                 99600.00  \n",
      "603                533700.04  \n",
      "604                 65004.00  \n",
      "605                 65004.00  \n",
      "606                 54075.00  \n",
      "607                670000.00  \n",
      "608                308333.33  \n",
      "609                377000.00  \n",
      "610                194000.00  \n",
      "611                 80000.00  \n",
      "612                368125.00  \n",
      "613                184000.00  \n",
      "614                 54075.00  \n",
      "615                453333.33  \n",
      "\n",
      "[616 rows x 6 columns]\n"
     ]
    }
   ],
   "source": [
    "print data"
   ]
  },
  {
   "cell_type": "code",
   "execution_count": null,
   "metadata": {
    "collapsed": true
   },
   "outputs": [],
   "source": []
  }
 ],
 "metadata": {
  "kernelspec": {
   "display_name": "Python 2",
   "language": "python",
   "name": "python2"
  },
  "language_info": {
   "codemirror_mode": {
    "name": "ipython",
    "version": 2
   },
   "file_extension": ".py",
   "mimetype": "text/x-python",
   "name": "python",
   "nbconvert_exporter": "python",
   "pygments_lexer": "ipython2",
   "version": "2.7.13"
  }
 },
 "nbformat": 4,
 "nbformat_minor": 1
}
